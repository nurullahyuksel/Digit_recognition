{
  "nbformat": 4,
  "nbformat_minor": 0,
  "metadata": {
    "colab": {
      "name": "mnist_digit_recognation_with_CNN.ipynb",
      "provenance": [],
      "collapsed_sections": []
    },
    "kernelspec": {
      "name": "python3",
      "display_name": "Python 3"
    },
    "language_info": {
      "name": "python"
    },
    "accelerator": "TPU"
  },
  "cells": [
    {
      "cell_type": "markdown",
      "source": [
        "# Digit recognition with CNN architecture\n",
        "\n",
        "**Digit recognition application with MNIST dataset**\n",
        "\n",
        "Test loss : 0.034158\n",
        "Test Accuracy : 0.990299\n",
        "Train loss : 0.002505\n",
        "Train Accuracy : 0.999100"
      ],
      "metadata": {
        "id": "1gqS8bJ_gxdY"
      }
    },
    {
      "cell_type": "code",
      "execution_count": 37,
      "metadata": {
        "colab": {
          "base_uri": "https://localhost:8080/"
        },
        "id": "xEvb_ZxbRmug",
        "outputId": "3bcd2a5c-67cf-403b-eb26-e2c9d9729f83"
      },
      "outputs": [
        {
          "output_type": "stream",
          "name": "stdout",
          "text": [
            "Drive already mounted at /content/drive; to attempt to forcibly remount, call drive.mount(\"/content/drive\", force_remount=True).\n",
            "[Errno 2] No such file or directory: 'drive/'\n",
            "/content/drive\n",
            "Accuracy.png  loss.png\tmnist_rakam_tanima.ipynb  rakam.jpg  save_models\n"
          ]
        }
      ],
      "source": [
        "# connect to colab\n",
        "\n",
        "from google.colab import drive \n",
        "drive.mount('/content/drive')\n",
        "%cd drive/\n",
        "!ls"
      ]
    },
    {
      "cell_type": "code",
      "source": [
        "import os \n",
        "os.chdir(\"/content/drive/My Drive/CNN/rakam_tanima\")\n",
        "!pwd\n"
      ],
      "metadata": {
        "colab": {
          "base_uri": "https://localhost:8080/"
        },
        "id": "JNMsG3iDRr7u",
        "outputId": "6c1fd270-dcfc-463d-d1a7-2f0bd750ef45"
      },
      "execution_count": 38,
      "outputs": [
        {
          "output_type": "stream",
          "name": "stdout",
          "text": [
            "/content/drive/My Drive/CNN/rakam_tanima\n"
          ]
        }
      ]
    },
    {
      "cell_type": "code",
      "source": [
        "# CPU control\n",
        "\n",
        "from tensorflow.python.client import device_lib\n",
        "device_lib.list_local_devices()"
      ],
      "metadata": {
        "colab": {
          "base_uri": "https://localhost:8080/"
        },
        "id": "nPzDgSEuSbV5",
        "outputId": "ccd86b2e-bb3d-43bd-f34d-eede39221219"
      },
      "execution_count": 39,
      "outputs": [
        {
          "output_type": "execute_result",
          "data": {
            "text/plain": [
              "[name: \"/device:CPU:0\"\n",
              " device_type: \"CPU\"\n",
              " memory_limit: 268435456\n",
              " locality {\n",
              " }\n",
              " incarnation: 10390493110744571147\n",
              " xla_global_id: -1]"
            ]
          },
          "metadata": {},
          "execution_count": 39
        }
      ]
    },
    {
      "cell_type": "code",
      "source": [
        "#importing\n",
        "\n",
        "from __future__ import print_function\n",
        "from tensorflow.keras.utils import to_categorical\n",
        "\n",
        "from tensorflow.keras.datasets import mnist\n",
        "from tensorflow.keras.models import load_model, Sequential\n",
        "from tensorflow.keras.layers import Dense, Dropout, Flatten, Conv2D, MaxPooling2D\n",
        "from tensorflow.keras import backend as K\n",
        "\n",
        "import matplotlib.pyplot as plt\n",
        "import numpy as np"
      ],
      "metadata": {
        "id": "8eaKxOmmSsnS"
      },
      "execution_count": 40,
      "outputs": []
    },
    {
      "cell_type": "code",
      "source": [
        "#Dataset loading\n",
        "\n",
        "(x_train, y_train), (x_test, y_test) = mnist.load_data()"
      ],
      "metadata": {
        "id": "ruAUDe6WvIEx"
      },
      "execution_count": 41,
      "outputs": []
    },
    {
      "cell_type": "code",
      "source": [
        "# Visualizing\n",
        "\n",
        "plt.figure(figsize=(14,7))\n",
        "for i in range (10):\n",
        "  plt.subplot(2,5,1+i)\n",
        "  plt.imshow(x_train[i])\n",
        "  plt.title(y_train[i])\n"
      ],
      "metadata": {
        "colab": {
          "base_uri": "https://localhost:8080/",
          "height": 406
        },
        "id": "4FmKM29wwBgc",
        "outputId": "e78d9bc2-93f2-42e4-879a-01b7d463057f"
      },
      "execution_count": 42,
      "outputs": [
        {
          "output_type": "display_data",
          "data": {
            "image/png": "[encoded data removed]",
            "text/plain": [
              "<Figure size 1008x504 with 10 Axes>"
            ]
          },
          "metadata": {
            "needs_background": "light"
          }
        }
      ]
    },
    {
      "cell_type": "code",
      "source": [
        "# Data shape\n",
        "\n",
        "print(\"x_train shape :\",x_train.shape)\n",
        "print(\"y_train shape :\",y_train.shape)\n",
        "print(\"x_test shape :\",x_test.shape)\n",
        "print(\"y_test shape :\",y_test.shape)"
      ],
      "metadata": {
        "colab": {
          "base_uri": "https://localhost:8080/"
        },
        "id": "q1jMN3cw6zed",
        "outputId": "dcba132f-214a-4546-991d-9856f21775dc"
      },
      "execution_count": 43,
      "outputs": [
        {
          "output_type": "stream",
          "name": "stdout",
          "text": [
            "x_train shape : (60000, 28, 28)\n",
            "y_train shape : (60000,)\n",
            "x_test shape : (10000, 28, 28)\n",
            "y_test shape : (10000,)\n"
          ]
        }
      ]
    },
    {
      "cell_type": "code",
      "source": [
        "#hyperparameters\n",
        "\n",
        "batch_size= 128\n",
        "num_classes= 10\n",
        "epochs= 20\n"
      ],
      "metadata": {
        "id": "NnD72zLyydme"
      },
      "execution_count": 44,
      "outputs": []
    },
    {
      "cell_type": "code",
      "source": [
        "# Data shape\n",
        "\n",
        "img_rows, img_cols= 28,28\n",
        "\n",
        "x_train= x_train.reshape(x_train.shape[0], img_rows, img_cols, 1 )\n",
        "x_test= x_test.reshape(x_test.shape[0], img_rows, img_cols, 1 )\n",
        "\n",
        "y_train= to_categorical(y_train,num_classes)\n",
        "y_test= to_categorical(y_test, num_classes)\n",
        "\n",
        "print(\"x_train shape :\",x_train.shape)\n",
        "print(\"y_train shape :\",y_train.shape)\n",
        "print(\"x_test shape :\",x_test.shape)\n",
        "print(\"y_test shape :\",y_test.shape)\n",
        "\n"
      ],
      "metadata": {
        "colab": {
          "base_uri": "https://localhost:8080/"
        },
        "id": "5IBRonkR8gGQ",
        "outputId": "8f64630e-8934-4fa2-dcca-46975771f713"
      },
      "execution_count": 45,
      "outputs": [
        {
          "output_type": "stream",
          "name": "stdout",
          "text": [
            "x_train shape : (60000, 28, 28, 1)\n",
            "y_train shape : (60000, 10)\n",
            "x_test shape : (10000, 28, 28, 1)\n",
            "y_test shape : (10000, 10)\n"
          ]
        }
      ]
    },
    {
      "cell_type": "code",
      "source": [
        "# Input Shape\n",
        "\n",
        "input_shape= x_train[0].shape\n",
        "input_shape"
      ],
      "metadata": {
        "colab": {
          "base_uri": "https://localhost:8080/"
        },
        "id": "3qXFYIZh8cuE",
        "outputId": "faaafa13-5cca-4c88-d310-3bdc2e9789f8"
      },
      "execution_count": 46,
      "outputs": [
        {
          "output_type": "execute_result",
          "data": {
            "text/plain": [
              "(28, 28, 1)"
            ]
          },
          "metadata": {},
          "execution_count": 46
        }
      ]
    },
    {
      "cell_type": "code",
      "source": [
        "# Model create\n",
        "\n",
        "model= Sequential()\n",
        "\n",
        "model.add(Conv2D(32, kernel_size=(3, 3), activation='relu', input_shape=input_shape))\n",
        " \n",
        "model.add(Conv2D(64, (3, 3), activation='relu'))\n",
        "model.add(MaxPooling2D(pool_size=(2, 2)))\n",
        "model.add(Dropout(0.25))\n",
        "\n",
        "model.add(Flatten())\n",
        "\n",
        "model.add(Dense(128, activation='relu'))\n",
        "model.add(Dropout(0.5))\n",
        "\n",
        "model.add(Dense(num_classes, activation='softmax'))\n",
        "\n",
        "model.summary()"
      ],
      "metadata": {
        "colab": {
          "base_uri": "https://localhost:8080/"
        },
        "id": "oyJHHMLt4LTh",
        "outputId": "e0b4753a-da15-489b-ab57-56a22cf90796"
      },
      "execution_count": 47,
      "outputs": [
        {
          "output_type": "stream",
          "name": "stdout",
          "text": [
            "Model: \"sequential_3\"\n",
            "_________________________________________________________________\n",
            " Layer (type)                Output Shape              Param #   \n",
            "=================================================================\n",
            " conv2d_6 (Conv2D)           (None, 26, 26, 32)        320       \n",
            "                                                                 \n",
            " conv2d_7 (Conv2D)           (None, 24, 24, 64)        18496     \n",
            "                                                                 \n",
            " max_pooling2d_3 (MaxPooling  (None, 12, 12, 64)       0         \n",
            " 2D)                                                             \n",
            "                                                                 \n",
            " dropout_6 (Dropout)         (None, 12, 12, 64)        0         \n",
            "                                                                 \n",
            " flatten_3 (Flatten)         (None, 9216)              0         \n",
            "                                                                 \n",
            " dense_6 (Dense)             (None, 128)               1179776   \n",
            "                                                                 \n",
            " dropout_7 (Dropout)         (None, 128)               0         \n",
            "                                                                 \n",
            " dense_7 (Dense)             (None, 10)                1290      \n",
            "                                                                 \n",
            "=================================================================\n",
            "Total params: 1,199,882\n",
            "Trainable params: 1,199,882\n",
            "Non-trainable params: 0\n",
            "_________________________________________________________________\n"
          ]
        }
      ]
    },
    {
      "cell_type": "code",
      "source": [
        "# Compile\n",
        "\n",
        "model.compile(loss= \"categorical_crossentropy\", optimizer=\"Adam\", metrics=[\"accuracy\"])"
      ],
      "metadata": {
        "id": "wSjclNkEBZJx"
      },
      "execution_count": 48,
      "outputs": []
    },
    {
      "cell_type": "code",
      "source": [
        "# Fitting\n",
        "\n",
        "hist= model.fit(x_train, y_train,\n",
        "                batch_size=batch_size,\n",
        "                epochs= epochs,\n",
        "                verbose= 1,\n",
        "                validation_data=(x_test, y_test))"
      ],
      "metadata": {
        "colab": {
          "base_uri": "https://localhost:8080/"
        },
        "id": "L0i3pqspD4lO",
        "outputId": "44f6368c-b49a-4cc6-e0c1-1a893d278e8b"
      },
      "execution_count": 49,
      "outputs": [
        {
          "output_type": "stream",
          "name": "stdout",
          "text": [
            "Epoch 1/20\n",
            "469/469 [==============================] - 139s 296ms/step - loss: 0.6554 - accuracy: 0.8643 - val_loss: 0.0767 - val_accuracy: 0.9757\n",
            "Epoch 2/20\n",
            "469/469 [==============================] - 135s 287ms/step - loss: 0.1567 - accuracy: 0.9531 - val_loss: 0.0572 - val_accuracy: 0.9828\n",
            "Epoch 3/20\n",
            "469/469 [==============================] - 136s 290ms/step - loss: 0.1168 - accuracy: 0.9655 - val_loss: 0.0486 - val_accuracy: 0.9855\n",
            "Epoch 4/20\n",
            "469/469 [==============================] - 136s 290ms/step - loss: 0.0884 - accuracy: 0.9734 - val_loss: 0.0442 - val_accuracy: 0.9860\n",
            "Epoch 5/20\n",
            "469/469 [==============================] - 135s 288ms/step - loss: 0.0796 - accuracy: 0.9755 - val_loss: 0.0450 - val_accuracy: 0.9872\n",
            "Epoch 6/20\n",
            "469/469 [==============================] - 135s 288ms/step - loss: 0.0712 - accuracy: 0.9788 - val_loss: 0.0442 - val_accuracy: 0.9882\n",
            "Epoch 7/20\n",
            "469/469 [==============================] - 135s 288ms/step - loss: 0.0611 - accuracy: 0.9811 - val_loss: 0.0430 - val_accuracy: 0.9871\n",
            "Epoch 8/20\n",
            "469/469 [==============================] - 134s 287ms/step - loss: 0.0592 - accuracy: 0.9816 - val_loss: 0.0354 - val_accuracy: 0.9889\n",
            "Epoch 9/20\n",
            "469/469 [==============================] - 135s 289ms/step - loss: 0.0538 - accuracy: 0.9830 - val_loss: 0.0419 - val_accuracy: 0.9880\n",
            "Epoch 10/20\n",
            "469/469 [==============================] - 136s 290ms/step - loss: 0.0502 - accuracy: 0.9845 - val_loss: 0.0435 - val_accuracy: 0.9886\n",
            "Epoch 11/20\n",
            "469/469 [==============================] - 137s 293ms/step - loss: 0.0466 - accuracy: 0.9857 - val_loss: 0.0469 - val_accuracy: 0.9889\n",
            "Epoch 12/20\n",
            "469/469 [==============================] - 137s 291ms/step - loss: 0.0469 - accuracy: 0.9851 - val_loss: 0.0408 - val_accuracy: 0.9885\n",
            "Epoch 13/20\n",
            "469/469 [==============================] - 137s 292ms/step - loss: 0.0423 - accuracy: 0.9867 - val_loss: 0.0382 - val_accuracy: 0.9893\n",
            "Epoch 14/20\n",
            "469/469 [==============================] - 136s 289ms/step - loss: 0.0410 - accuracy: 0.9873 - val_loss: 0.0487 - val_accuracy: 0.9886\n",
            "Epoch 15/20\n",
            "469/469 [==============================] - 136s 290ms/step - loss: 0.0402 - accuracy: 0.9873 - val_loss: 0.0403 - val_accuracy: 0.9897\n",
            "Epoch 16/20\n",
            "469/469 [==============================] - 135s 288ms/step - loss: 0.0369 - accuracy: 0.9892 - val_loss: 0.0420 - val_accuracy: 0.9901\n",
            "Epoch 17/20\n",
            "469/469 [==============================] - 136s 289ms/step - loss: 0.0373 - accuracy: 0.9885 - val_loss: 0.0466 - val_accuracy: 0.9892\n",
            "Epoch 18/20\n",
            "469/469 [==============================] - 136s 291ms/step - loss: 0.0329 - accuracy: 0.9898 - val_loss: 0.0405 - val_accuracy: 0.9909\n",
            "Epoch 19/20\n",
            "469/469 [==============================] - 136s 290ms/step - loss: 0.0348 - accuracy: 0.9893 - val_loss: 0.0454 - val_accuracy: 0.9891\n",
            "Epoch 20/20\n",
            "469/469 [==============================] - 136s 290ms/step - loss: 0.0320 - accuracy: 0.9899 - val_loss: 0.0342 - val_accuracy: 0.9903\n"
          ]
        }
      ]
    },
    {
      "cell_type": "code",
      "source": [
        "#visualize\n",
        "\n",
        "plt.figure(figsize=(10,6))\n",
        "\n",
        "plt.plot(hist.history[\"accuracy\"], label= \"train acc\", color=\"g\")\n",
        "plt.plot(hist.history[\"val_accuracy\"], label= \"validation acc\",color=\"r\")\n",
        "plt.legend()\n",
        "plt.title(\"Model Accuracy\")\n",
        "plt.xlabel(\"Epochs\")\n",
        "plt.ylabel(\"Accuracy\")\n",
        "plt.savefig('Accuracy.png')\n",
        "plt.show()\n",
        "\n",
        "plt.figure(figsize=(10,6))\n",
        "plt.plot(hist.history[\"loss\"], label= \"train loss\",color=\"g\")\n",
        "plt.plot(hist.history[\"val_loss\"], label= \"validation loss\",color=\"r\")\n",
        "plt.legend()\n",
        "plt.title(\"Model Loss\")\n",
        "plt.xlabel(\"Epochs\")\n",
        "plt.ylabel(\"Loss(Cost)\")\n",
        "plt.savefig('loss.png')\n",
        "plt.show()"
      ],
      "metadata": {
        "colab": {
          "base_uri": "https://localhost:8080/",
          "height": 791
        },
        "id": "1Yr-ucQpHjBh",
        "outputId": "60117080-858a-43b3-bfc6-65b734cd13ab"
      },
      "execution_count": 50,
      "outputs": [
        {
          "output_type": "display_data",
          "data": {
            "image/png": "[encoded data removed]",
            "text/plain": [
              "<Figure size 720x432 with 1 Axes>"
            ]
          },
          "metadata": {
            "needs_background": "light"
          }
        },
        {
          "output_type": "display_data",
          "data": {
            "image/png": "[encoded data removed]",
            "text/plain": [
              "<Figure size 720x432 with 1 Axes>"
            ]
          },
          "metadata": {
            "needs_background": "light"
          }
        }
      ]
    },
    {
      "cell_type": "code",
      "source": [
        "#save\n",
        "model.save(\"/mnist_model_20.h5\")"
      ],
      "metadata": {
        "id": "vEe2D24yEO-9"
      },
      "execution_count": 51,
      "outputs": []
    },
    {
      "cell_type": "code",
      "source": [
        "# Train-Test score\n",
        "score=model.evaluate(x_test, y_test, verbose=2)\n",
        "score1=model.evaluate(x_train, y_train, verbose=2)\n",
        "print(\"Test loss :\", score[0])\n",
        "print(\"Test Accuracy :\", score[1] )\n",
        "print(\"Train loss :\", score1[0])\n",
        "print(\"Train Accuracy :\", score1[1] )"
      ],
      "metadata": {
        "colab": {
          "base_uri": "https://localhost:8080/"
        },
        "id": "KYp7Y-baG3yU",
        "outputId": "bd72aba4-bf28-458f-bffe-5b9e0aeb879f"
      },
      "execution_count": 150,
      "outputs": [
        {
          "output_type": "stream",
          "name": "stdout",
          "text": [
            "313/313 - 6s - loss: 0.0342 - accuracy: 0.9903 - 6s/epoch - 20ms/step\n",
            "1875/1875 - 46s - loss: 0.0025 - accuracy: 0.9991 - 46s/epoch - 24ms/step\n",
            "Test loss : 0.03415820375084877\n",
            "Test Accuracy : 0.9902999997138977\n",
            "Train loss : 0.0025054479483515024\n",
            "Train Accuracy : 0.9991000294685364\n"
          ]
        }
      ]
    },
    {
      "cell_type": "markdown",
      "source": [
        "### Predict a random number from the dataset"
      ],
      "metadata": {
        "id": "OzAE6QbQInPt"
      }
    },
    {
      "cell_type": "code",
      "source": [
        "# Save\n",
        "\n",
        "model_test= model.save(\"save_models/mnist_model_20.h5\")"
      ],
      "metadata": {
        "id": "gQSuzu1QIlba"
      },
      "execution_count": 83,
      "outputs": []
    },
    {
      "cell_type": "code",
      "source": [
        "# sample from test dataset\n",
        "\n",
        "plt.imshow(test_image.reshape(28,28), cmap='gray', vmin=2, vmax=255)"
      ],
      "metadata": {
        "colab": {
          "base_uri": "https://localhost:8080/",
          "height": 282
        },
        "id": "02oNL8wDZuVu",
        "outputId": "abb8fd6f-9763-44da-c185-6b2608a3cf2c"
      },
      "execution_count": 145,
      "outputs": [
        {
          "output_type": "execute_result",
          "data": {
            "text/plain": [
              "<matplotlib.image.AxesImage at 0x7f2f1644b450>"
            ]
          },
          "metadata": {},
          "execution_count": 145
        },
        {
          "output_type": "display_data",
          "data": {
            "image/png": "[encoded data removed]",
            "text/plain": [
              "<Figure size 432x288 with 1 Axes>"
            ]
          },
          "metadata": {
            "needs_background": "light"
          }
        }
      ]
    },
    {
      "cell_type": "code",
      "source": [
        "# Reshaping, Predict\n",
        "\n",
        "test_image= x_test[35]\n",
        "\n",
        "test_image= test_image.reshape(1,28,28,1)\n",
        "\n",
        "result= model.predict(test_image)\n",
        "result= result.reshape(10,1)\n",
        "\n",
        "plt.plot(result)\n"
      ],
      "metadata": {
        "colab": {
          "base_uri": "https://localhost:8080/",
          "height": 282
        },
        "id": "Uz0pXCVCJBp5",
        "outputId": "0881bb08-79de-4140-f167-00c879e8af2e"
      },
      "execution_count": 146,
      "outputs": [
        {
          "output_type": "execute_result",
          "data": {
            "text/plain": [
              "[<matplotlib.lines.Line2D at 0x7f2f163d6c90>]"
            ]
          },
          "metadata": {},
          "execution_count": 146
        },
        {
          "output_type": "display_data",
          "data": {
            "image/png": "[encoded data removed]",
            "text/plain": [
              "<Figure size 432x288 with 1 Axes>"
            ]
          },
          "metadata": {
            "needs_background": "light"
          }
        }
      ]
    },
    {
      "cell_type": "markdown",
      "source": [
        "### Real world example"
      ],
      "metadata": {
        "id": "C2CuewBUZnGy"
      }
    },
    {
      "cell_type": "code",
      "source": [
        "\n",
        "#loading test image\n",
        "\n",
        "from PIL import Image\n",
        "img = Image.open('/content/drive/My Drive/CNN/rakam_tanima/rakamlar/sekiz.jpg') #for example image size : 28x28x3\n",
        "img1 = img.convert('L')  #convert a gray scale\n",
        "img1= img1.resize((28, 28))\n"
      ],
      "metadata": {
        "id": "6TmrfKWpW_uc"
      },
      "execution_count": 147,
      "outputs": []
    },
    {
      "cell_type": "code",
      "source": [
        "# Sizing for predict\n",
        "\n",
        "real_image = np.expand_dims(img1, axis=-1)\n",
        "real_image = real_image.reshape(1,28,28,1)\n",
        "real_image.shape"
      ],
      "metadata": {
        "colab": {
          "base_uri": "https://localhost:8080/"
        },
        "id": "7kGsowOrxQT6",
        "outputId": "29fd4b0f-c3df-4480-d6f9-e4290b421f41"
      },
      "execution_count": 148,
      "outputs": [
        {
          "output_type": "execute_result",
          "data": {
            "text/plain": [
              "(1, 28, 28, 1)"
            ]
          },
          "metadata": {},
          "execution_count": 148
        }
      ]
    },
    {
      "cell_type": "code",
      "source": [
        "#Predict \n",
        "\n",
        "results= model.predict(real_image)\n",
        "results= results.reshape(10,1)\n",
        "\n",
        "plt.plot(results)"
      ],
      "metadata": {
        "colab": {
          "base_uri": "https://localhost:8080/",
          "height": 282
        },
        "id": "4MqO5Bji0W5s",
        "outputId": "a860d7e9-4a43-478c-fe0b-9b82e272a48a"
      },
      "execution_count": 149,
      "outputs": [
        {
          "output_type": "execute_result",
          "data": {
            "text/plain": [
              "[<matplotlib.lines.Line2D at 0x7f2f15f33b90>]"
            ]
          },
          "metadata": {},
          "execution_count": 149
        },
        {
          "output_type": "display_data",
          "data": {
            "image/png": "[encoded data removed]",
            "text/plain": [
              "<Figure size 432x288 with 1 Axes>"
            ]
          },
          "metadata": {
            "needs_background": "light"
          }
        }
      ]
    },
    {
      "cell_type": "code",
      "source": [
        ""
      ],
      "metadata": {
        "id": "PJspZGp04foI"
      },
      "execution_count": 80,
      "outputs": []
    },
    {
      "cell_type": "code",
      "source": [
        ""
      ],
      "metadata": {
        "id": "0C9-t6JXK2q3"
      },
      "execution_count": null,
      "outputs": []
    }
  ]
}